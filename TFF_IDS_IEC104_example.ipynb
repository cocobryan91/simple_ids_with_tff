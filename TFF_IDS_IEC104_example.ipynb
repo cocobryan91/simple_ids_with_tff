{
 "cells": [
  {
   "cell_type": "markdown",
   "id": "745e1da6-4172-4a13-8756-1ff70ef660a1",
   "metadata": {},
   "source": [
    "# Federated Learning with TensorFlow"
   ]
  },
  {
   "cell_type": "markdown",
   "id": "1d693b96-54d0-454d-98f6-3f90ec612d99",
   "metadata": {},
   "source": [
    "#### This notebook presents a simple example / application of federated learning on developing a Machine Learning model for Intrusion Detection for defending against Cyberattacks.\n",
    "#### This example uses Docker containers as independent workers / clients for performing the client model training on the limited local client data.\n",
    "#### This example was developed as part of the research conducted at MetaMind Innovations in the framework of the [AI4CYBER](http://metamind.gr/portfolio-items/ai4cyber-horizon-europe/) project."
   ]
  },
  {
   "cell_type": "markdown",
   "id": "7f49486c-5b18-4218-b18f-a7218f17f508",
   "metadata": {
    "id": "_zFenI3IPpgI",
    "tags": []
   },
   "source": [
    "## Set Up TFF Environment"
   ]
  },
  {
   "cell_type": "code",
   "execution_count": 1,
   "id": "8508e13a-7d38-4d14-81c4-8230773573d8",
   "metadata": {
    "id": "ke7EyuvG0Zyn"
   },
   "outputs": [],
   "source": [
    "#@test {\"skip\": true}\n",
    "!pip install --quiet --upgrade tensorflow-federated\n",
    "!pip install --quiet --upgrade tensorflow\n",
    "!pip install --quiet --upgrade nest-asyncio\n",
    "!pip install --quiet --upgrade pandas\n",
    "!pip install --quiet --upgrade matplotlib"
   ]
  },
  {
   "cell_type": "code",
   "execution_count": 2,
   "id": "e108500a-193e-4276-8b5e-d7b0ad27f101",
   "metadata": {},
   "outputs": [
    {
     "name": "stderr",
     "output_type": "stream",
     "text": [
      "2022-11-07 21:30:21.037065: I tensorflow/core/platform/cpu_feature_guard.cc:193] This TensorFlow binary is optimized with oneAPI Deep Neural Network Library (oneDNN) to use the following CPU instructions in performance-critical operations:  AVX2 AVX_VNNI FMA\n",
      "To enable them in other operations, rebuild TensorFlow with the appropriate compiler flags.\n",
      "2022-11-07 21:30:21.117197: I tensorflow/core/util/util.cc:169] oneDNN custom operations are on. You may see slightly different numerical results due to floating-point round-off errors from different computation orders. To turn them off, set the environment variable `TF_ENABLE_ONEDNN_OPTS=0`.\n",
      "2022-11-07 21:30:21.120494: W tensorflow/stream_executor/platform/default/dso_loader.cc:64] Could not load dynamic library 'libcudart.so.11.0'; dlerror: libcudart.so.11.0: cannot open shared object file: No such file or directory\n",
      "2022-11-07 21:30:21.120505: I tensorflow/stream_executor/cuda/cudart_stub.cc:29] Ignore above cudart dlerror if you do not have a GPU set up on your machine.\n",
      "2022-11-07 21:30:21.137375: E tensorflow/stream_executor/cuda/cuda_blas.cc:2981] Unable to register cuBLAS factory: Attempting to register factory for plugin cuBLAS when one has already been registered\n",
      "2022-11-07 21:30:21.497642: W tensorflow/stream_executor/platform/default/dso_loader.cc:64] Could not load dynamic library 'libnvinfer.so.7'; dlerror: libnvinfer.so.7: cannot open shared object file: No such file or directory\n",
      "2022-11-07 21:30:21.497680: W tensorflow/stream_executor/platform/default/dso_loader.cc:64] Could not load dynamic library 'libnvinfer_plugin.so.7'; dlerror: libnvinfer_plugin.so.7: cannot open shared object file: No such file or directory\n",
      "2022-11-07 21:30:21.497702: W tensorflow/compiler/tf2tensorrt/utils/py_utils.cc:38] TF-TRT Warning: Cannot dlopen some TensorRT libraries. If you would like to use Nvidia GPU with TensorRT, please make sure the missing libraries mentioned above are installed properly.\n"
     ]
    }
   ],
   "source": [
    "import collections\n",
    "import os\n",
    "import pandas as pd\n",
    "import tensorflow as tf\n",
    "import tensorflow_federated as tff\n",
    "import time\n",
    "\n",
    "from matplotlib import pyplot as plt\n",
    "\n",
    "import nest_asyncio\n",
    "nest_asyncio.apply()\n",
    "\n",
    "%matplotlib inline"
   ]
  },
  {
   "cell_type": "markdown",
   "id": "42f9df91-caad-4a18-a787-b49080bbc340",
   "metadata": {},
   "source": [
    "Print a \"Hello World\" message through TFF to verify the proper TFF installation"
   ]
  },
  {
   "cell_type": "code",
   "execution_count": 3,
   "id": "7610b00c-0645-4629-b80e-0bcfb8de9189",
   "metadata": {},
   "outputs": [
    {
     "name": "stderr",
     "output_type": "stream",
     "text": [
      "2022-11-07 21:30:22.642739: W tensorflow/stream_executor/platform/default/dso_loader.cc:64] Could not load dynamic library 'libcuda.so.1'; dlerror: libcuda.so.1: cannot open shared object file: No such file or directory\n",
      "2022-11-07 21:30:22.642767: W tensorflow/stream_executor/cuda/cuda_driver.cc:263] failed call to cuInit: UNKNOWN ERROR (303)\n",
      "2022-11-07 21:30:22.642783: I tensorflow/stream_executor/cuda/cuda_diagnostics.cc:156] kernel driver does not appear to be running on this host (mmu): /proc/driver/nvidia/version does not exist\n",
      "2022-11-07 21:30:22.642985: I tensorflow/core/platform/cpu_feature_guard.cc:193] This TensorFlow binary is optimized with oneAPI Deep Neural Network Library (oneDNN) to use the following CPU instructions in performance-critical operations:  AVX2 AVX_VNNI FMA\n",
      "To enable them in other operations, rebuild TensorFlow with the appropriate compiler flags.\n"
     ]
    },
    {
     "data": {
      "text/plain": [
       "b'Hello, World!'"
      ]
     },
     "execution_count": 3,
     "metadata": {},
     "output_type": "execute_result"
    }
   ],
   "source": [
    "tff.federated_computation(lambda: 'Hello, World!')()"
   ]
  },
  {
   "cell_type": "markdown",
   "id": "fb3091ad-6572-4419-ab6c-53c5c7189a2b",
   "metadata": {},
   "source": [
    "## Dataset"
   ]
  },
  {
   "cell_type": "markdown",
   "id": "2cc84d73-9e09-4128-a1bf-dfca770175c2",
   "metadata": {},
   "source": [
    "This dataset is part of the [IEC 60870-5-104 Intrusion Detection Dataset](http://zenodo.org/record/7108614#.YzGaDtJBwUE) -- DOI: [10.1109/TII.2021.3093905](http://doi.org/10.1109/TII.2021.3093905) -- published by [ITHACA – University of Western Macedonia](http://ithaca.ece.uowm.gr/)."
   ]
  },
  {
   "cell_type": "markdown",
   "id": "490137d3-749a-4f80-aa42-1bd1479f2c70",
   "metadata": {},
   "source": [
    "We input the dataset path and choose which dataset to facilitate for the experimentation.\n",
    "\n",
    "We also input the number of clients / workers that we are going to use. We can use $2 \\leq N \\leq 5$ individual workers.\n",
    "\n",
    "For this example we use the CICFlowMeter dataset with capturing timeout at 180 seconds with 2 distinct workers."
   ]
  },
  {
   "cell_type": "code",
   "execution_count": 4,
   "id": "42eb7be8-096b-4115-89d7-c9bad71de037",
   "metadata": {},
   "outputs": [],
   "source": [
    "path = '~/workspace/datasets/Balanced_IEC104_Train_Test_CSV_Files/iec104_train_test_csvs'\n",
    "tp = 'cic'      # Type: choose between 'cic' and 'custom'\n",
    "tm = 180        # Timeout: choose one value from the following list [15, 30, 60, 90, 120, 180]\n",
    "n_workers = 2   # #workers: choose between 2 and 5 workers (2 and 5 inclusive)"
   ]
  },
  {
   "cell_type": "markdown",
   "id": "af7549b7-1476-4acb-b6b1-027851874bc0",
   "metadata": {},
   "source": [
    "Perform some input value checks."
   ]
  },
  {
   "cell_type": "code",
   "execution_count": 5,
   "id": "b4108bcd-3642-4543-b617-fef34f610fd2",
   "metadata": {},
   "outputs": [],
   "source": [
    "assert tp in ('cic', 'custom'), \"Wrong dataset type\"\n",
    "assert tm in (15, 30, 60, 90, 120, 180), \"Wrong time\"\n",
    "assert 2 <= n_workers <= 5, \"At least 2 and at most 5 workers (docker containers) are required\""
   ]
  },
  {
   "cell_type": "code",
   "execution_count": 6,
   "id": "f23df872-5e6b-4e3e-895d-ce9fca341904",
   "metadata": {},
   "outputs": [],
   "source": [
    "dataset = f'tests_{tp}_{tm}'\n",
    "\n",
    "if 'cic' in dataset:\n",
    "    n = dataset.split('_')[-1]\n",
    "    train_csv = os.path.join(os.path.join(path, dataset), f'train_{tm}_cicflow.csv')\n",
    "    test_csv = os.path.join(os.path.join(path, dataset), f'test_{tm}_cicflow.csv')\n",
    "elif 'custom' in dataset:\n",
    "    n = dataset.split('_')\n",
    "    train_csv = os.path.join(os.path.join(path, dataset), f'train_{tm}_custom_script.csv')\n",
    "    test_csv = os.path.join(os.path.join(path, dataset), f'test_{tm}_custom_script.csv')\n",
    "else:\n",
    "    raise Exception(\"Wrong dataset\")\n",
    "\n",
    "df_train = pd.read_csv(train_csv)\n",
    "df_test = pd.read_csv(train_csv)"
   ]
  },
  {
   "cell_type": "markdown",
   "id": "b9f23866-4404-4724-878d-b7cef548d351",
   "metadata": {},
   "source": [
    "Let's perform some data exploration."
   ]
  },
  {
   "cell_type": "code",
   "execution_count": 7,
   "id": "45d94429-1f2a-4661-9dbf-d0db560fdd8c",
   "metadata": {},
   "outputs": [
    {
     "data": {
      "text/plain": [
       "Flow ID       object\n",
       "Src IP        object\n",
       "Src Port       int64\n",
       "Dst IP        object\n",
       "Dst Port       int64\n",
       "              ...   \n",
       "Idle Mean    float64\n",
       "Idle Std     float64\n",
       "Idle Max       int64\n",
       "Idle Min       int64\n",
       "Label         object\n",
       "Length: 84, dtype: object"
      ]
     },
     "execution_count": 7,
     "metadata": {},
     "output_type": "execute_result"
    }
   ],
   "source": [
    "df_train.dtypes"
   ]
  },
  {
   "cell_type": "code",
   "execution_count": 8,
   "id": "7af87901-70d3-4bf4-9c87-0a70680bb0c5",
   "metadata": {},
   "outputs": [
    {
     "data": {
      "text/plain": [
       "Flow ID       object\n",
       "Src IP        object\n",
       "Src Port       int64\n",
       "Dst IP        object\n",
       "Dst Port       int64\n",
       "              ...   \n",
       "Idle Mean    float64\n",
       "Idle Std     float64\n",
       "Idle Max       int64\n",
       "Idle Min       int64\n",
       "Label         object\n",
       "Length: 84, dtype: object"
      ]
     },
     "execution_count": 8,
     "metadata": {},
     "output_type": "execute_result"
    }
   ],
   "source": [
    "df_test.dtypes"
   ]
  },
  {
   "cell_type": "code",
   "execution_count": 9,
   "id": "ee521d57-175d-4895-b6ce-ee306749ed41",
   "metadata": {},
   "outputs": [
    {
     "name": "stdout",
     "output_type": "stream",
     "text": [
      "<class 'pandas.core.frame.DataFrame'>\n",
      "RangeIndex: 3588 entries, 0 to 3587\n",
      "Data columns (total 84 columns):\n",
      " #   Column             Non-Null Count  Dtype  \n",
      "---  ------             --------------  -----  \n",
      " 0   Flow ID            3588 non-null   object \n",
      " 1   Src IP             3588 non-null   object \n",
      " 2   Src Port           3588 non-null   int64  \n",
      " 3   Dst IP             3588 non-null   object \n",
      " 4   Dst Port           3588 non-null   int64  \n",
      " 5   Protocol           3588 non-null   int64  \n",
      " 6   Timestamp          3588 non-null   object \n",
      " 7   Flow Duration      3588 non-null   int64  \n",
      " 8   Tot Fwd Pkts       3588 non-null   int64  \n",
      " 9   Tot Bwd Pkts       3588 non-null   int64  \n",
      " 10  TotLen Fwd Pkts    3588 non-null   int64  \n",
      " 11  TotLen Bwd Pkts    3588 non-null   int64  \n",
      " 12  Fwd Pkt Len Max    3588 non-null   int64  \n",
      " 13  Fwd Pkt Len Min    3588 non-null   int64  \n",
      " 14  Fwd Pkt Len Mean   3588 non-null   float64\n",
      " 15  Fwd Pkt Len Std    3588 non-null   float64\n",
      " 16  Bwd Pkt Len Max    3588 non-null   int64  \n",
      " 17  Bwd Pkt Len Min    3588 non-null   int64  \n",
      " 18  Bwd Pkt Len Mean   3588 non-null   float64\n",
      " 19  Bwd Pkt Len Std    3588 non-null   float64\n",
      " 20  Flow Byts/s        3588 non-null   float64\n",
      " 21  Flow Pkts/s        3588 non-null   float64\n",
      " 22  Flow IAT Mean      3588 non-null   float64\n",
      " 23  Flow IAT Std       3588 non-null   float64\n",
      " 24  Flow IAT Max       3588 non-null   int64  \n",
      " 25  Flow IAT Min       3588 non-null   int64  \n",
      " 26  Fwd IAT Tot        3588 non-null   int64  \n",
      " 27  Fwd IAT Mean       3588 non-null   float64\n",
      " 28  Fwd IAT Std        3588 non-null   float64\n",
      " 29  Fwd IAT Max        3588 non-null   int64  \n",
      " 30  Fwd IAT Min        3588 non-null   int64  \n",
      " 31  Bwd IAT Tot        3588 non-null   int64  \n",
      " 32  Bwd IAT Mean       3588 non-null   float64\n",
      " 33  Bwd IAT Std        3588 non-null   float64\n",
      " 34  Bwd IAT Max        3588 non-null   int64  \n",
      " 35  Bwd IAT Min        3588 non-null   int64  \n",
      " 36  Fwd PSH Flags      3588 non-null   int64  \n",
      " 37  Bwd PSH Flags      3588 non-null   int64  \n",
      " 38  Fwd URG Flags      3588 non-null   int64  \n",
      " 39  Bwd URG Flags      3588 non-null   int64  \n",
      " 40  Fwd Header Len     3588 non-null   int64  \n",
      " 41  Bwd Header Len     3588 non-null   int64  \n",
      " 42  Fwd Pkts/s         3588 non-null   float64\n",
      " 43  Bwd Pkts/s         3588 non-null   float64\n",
      " 44  Pkt Len Min        3588 non-null   int64  \n",
      " 45  Pkt Len Max        3588 non-null   int64  \n",
      " 46  Pkt Len Mean       3588 non-null   float64\n",
      " 47  Pkt Len Std        3588 non-null   float64\n",
      " 48  Pkt Len Var        3588 non-null   float64\n",
      " 49  FIN Flag Cnt       3588 non-null   int64  \n",
      " 50  SYN Flag Cnt       3588 non-null   int64  \n",
      " 51  RST Flag Cnt       3588 non-null   int64  \n",
      " 52  PSH Flag Cnt       3588 non-null   int64  \n",
      " 53  ACK Flag Cnt       3588 non-null   int64  \n",
      " 54  URG Flag Cnt       3588 non-null   int64  \n",
      " 55  CWE Flag Count     3588 non-null   int64  \n",
      " 56  ECE Flag Cnt       3588 non-null   int64  \n",
      " 57  Down/Up Ratio      3588 non-null   int64  \n",
      " 58  Pkt Size Avg       3588 non-null   float64\n",
      " 59  Fwd Seg Size Avg   3588 non-null   float64\n",
      " 60  Bwd Seg Size Avg   3588 non-null   float64\n",
      " 61  Fwd Byts/b Avg     3588 non-null   int64  \n",
      " 62  Fwd Pkts/b Avg     3588 non-null   int64  \n",
      " 63  Fwd Blk Rate Avg   3588 non-null   int64  \n",
      " 64  Bwd Byts/b Avg     3588 non-null   int64  \n",
      " 65  Bwd Pkts/b Avg     3588 non-null   int64  \n",
      " 66  Bwd Blk Rate Avg   3588 non-null   int64  \n",
      " 67  Subflow Fwd Pkts   3588 non-null   int64  \n",
      " 68  Subflow Fwd Byts   3588 non-null   int64  \n",
      " 69  Subflow Bwd Pkts   3588 non-null   int64  \n",
      " 70  Subflow Bwd Byts   3588 non-null   int64  \n",
      " 71  Init Fwd Win Byts  3588 non-null   int64  \n",
      " 72  Init Bwd Win Byts  3588 non-null   int64  \n",
      " 73  Fwd Act Data Pkts  3588 non-null   int64  \n",
      " 74  Fwd Seg Size Min   3588 non-null   int64  \n",
      " 75  Active Mean        3588 non-null   float64\n",
      " 76  Active Std         3588 non-null   float64\n",
      " 77  Active Max         3588 non-null   int64  \n",
      " 78  Active Min         3588 non-null   int64  \n",
      " 79  Idle Mean          3588 non-null   float64\n",
      " 80  Idle Std           3588 non-null   float64\n",
      " 81  Idle Max           3588 non-null   int64  \n",
      " 82  Idle Min           3588 non-null   int64  \n",
      " 83  Label              3588 non-null   object \n",
      "dtypes: float64(24), int64(55), object(5)\n",
      "memory usage: 2.3+ MB\n"
     ]
    }
   ],
   "source": [
    "df_train.info()"
   ]
  },
  {
   "cell_type": "code",
   "execution_count": 10,
   "id": "9cd1fe80-5e38-44fe-ae77-380ffc6f54e4",
   "metadata": {},
   "outputs": [
    {
     "name": "stdout",
     "output_type": "stream",
     "text": [
      "<class 'pandas.core.frame.DataFrame'>\n",
      "RangeIndex: 3588 entries, 0 to 3587\n",
      "Data columns (total 84 columns):\n",
      " #   Column             Non-Null Count  Dtype  \n",
      "---  ------             --------------  -----  \n",
      " 0   Flow ID            3588 non-null   object \n",
      " 1   Src IP             3588 non-null   object \n",
      " 2   Src Port           3588 non-null   int64  \n",
      " 3   Dst IP             3588 non-null   object \n",
      " 4   Dst Port           3588 non-null   int64  \n",
      " 5   Protocol           3588 non-null   int64  \n",
      " 6   Timestamp          3588 non-null   object \n",
      " 7   Flow Duration      3588 non-null   int64  \n",
      " 8   Tot Fwd Pkts       3588 non-null   int64  \n",
      " 9   Tot Bwd Pkts       3588 non-null   int64  \n",
      " 10  TotLen Fwd Pkts    3588 non-null   int64  \n",
      " 11  TotLen Bwd Pkts    3588 non-null   int64  \n",
      " 12  Fwd Pkt Len Max    3588 non-null   int64  \n",
      " 13  Fwd Pkt Len Min    3588 non-null   int64  \n",
      " 14  Fwd Pkt Len Mean   3588 non-null   float64\n",
      " 15  Fwd Pkt Len Std    3588 non-null   float64\n",
      " 16  Bwd Pkt Len Max    3588 non-null   int64  \n",
      " 17  Bwd Pkt Len Min    3588 non-null   int64  \n",
      " 18  Bwd Pkt Len Mean   3588 non-null   float64\n",
      " 19  Bwd Pkt Len Std    3588 non-null   float64\n",
      " 20  Flow Byts/s        3588 non-null   float64\n",
      " 21  Flow Pkts/s        3588 non-null   float64\n",
      " 22  Flow IAT Mean      3588 non-null   float64\n",
      " 23  Flow IAT Std       3588 non-null   float64\n",
      " 24  Flow IAT Max       3588 non-null   int64  \n",
      " 25  Flow IAT Min       3588 non-null   int64  \n",
      " 26  Fwd IAT Tot        3588 non-null   int64  \n",
      " 27  Fwd IAT Mean       3588 non-null   float64\n",
      " 28  Fwd IAT Std        3588 non-null   float64\n",
      " 29  Fwd IAT Max        3588 non-null   int64  \n",
      " 30  Fwd IAT Min        3588 non-null   int64  \n",
      " 31  Bwd IAT Tot        3588 non-null   int64  \n",
      " 32  Bwd IAT Mean       3588 non-null   float64\n",
      " 33  Bwd IAT Std        3588 non-null   float64\n",
      " 34  Bwd IAT Max        3588 non-null   int64  \n",
      " 35  Bwd IAT Min        3588 non-null   int64  \n",
      " 36  Fwd PSH Flags      3588 non-null   int64  \n",
      " 37  Bwd PSH Flags      3588 non-null   int64  \n",
      " 38  Fwd URG Flags      3588 non-null   int64  \n",
      " 39  Bwd URG Flags      3588 non-null   int64  \n",
      " 40  Fwd Header Len     3588 non-null   int64  \n",
      " 41  Bwd Header Len     3588 non-null   int64  \n",
      " 42  Fwd Pkts/s         3588 non-null   float64\n",
      " 43  Bwd Pkts/s         3588 non-null   float64\n",
      " 44  Pkt Len Min        3588 non-null   int64  \n",
      " 45  Pkt Len Max        3588 non-null   int64  \n",
      " 46  Pkt Len Mean       3588 non-null   float64\n",
      " 47  Pkt Len Std        3588 non-null   float64\n",
      " 48  Pkt Len Var        3588 non-null   float64\n",
      " 49  FIN Flag Cnt       3588 non-null   int64  \n",
      " 50  SYN Flag Cnt       3588 non-null   int64  \n",
      " 51  RST Flag Cnt       3588 non-null   int64  \n",
      " 52  PSH Flag Cnt       3588 non-null   int64  \n",
      " 53  ACK Flag Cnt       3588 non-null   int64  \n",
      " 54  URG Flag Cnt       3588 non-null   int64  \n",
      " 55  CWE Flag Count     3588 non-null   int64  \n",
      " 56  ECE Flag Cnt       3588 non-null   int64  \n",
      " 57  Down/Up Ratio      3588 non-null   int64  \n",
      " 58  Pkt Size Avg       3588 non-null   float64\n",
      " 59  Fwd Seg Size Avg   3588 non-null   float64\n",
      " 60  Bwd Seg Size Avg   3588 non-null   float64\n",
      " 61  Fwd Byts/b Avg     3588 non-null   int64  \n",
      " 62  Fwd Pkts/b Avg     3588 non-null   int64  \n",
      " 63  Fwd Blk Rate Avg   3588 non-null   int64  \n",
      " 64  Bwd Byts/b Avg     3588 non-null   int64  \n",
      " 65  Bwd Pkts/b Avg     3588 non-null   int64  \n",
      " 66  Bwd Blk Rate Avg   3588 non-null   int64  \n",
      " 67  Subflow Fwd Pkts   3588 non-null   int64  \n",
      " 68  Subflow Fwd Byts   3588 non-null   int64  \n",
      " 69  Subflow Bwd Pkts   3588 non-null   int64  \n",
      " 70  Subflow Bwd Byts   3588 non-null   int64  \n",
      " 71  Init Fwd Win Byts  3588 non-null   int64  \n",
      " 72  Init Bwd Win Byts  3588 non-null   int64  \n",
      " 73  Fwd Act Data Pkts  3588 non-null   int64  \n",
      " 74  Fwd Seg Size Min   3588 non-null   int64  \n",
      " 75  Active Mean        3588 non-null   float64\n",
      " 76  Active Std         3588 non-null   float64\n",
      " 77  Active Max         3588 non-null   int64  \n",
      " 78  Active Min         3588 non-null   int64  \n",
      " 79  Idle Mean          3588 non-null   float64\n",
      " 80  Idle Std           3588 non-null   float64\n",
      " 81  Idle Max           3588 non-null   int64  \n",
      " 82  Idle Min           3588 non-null   int64  \n",
      " 83  Label              3588 non-null   object \n",
      "dtypes: float64(24), int64(55), object(5)\n",
      "memory usage: 2.3+ MB\n"
     ]
    }
   ],
   "source": [
    "df_test.info()"
   ]
  },
  {
   "cell_type": "markdown",
   "id": "e9c6551a-4481-4f3e-a5f9-80bfc03bb524",
   "metadata": {},
   "source": [
    "As a preprocessing step, we transorm the \"Label\" feature from string to categorical and then to numeric."
   ]
  },
  {
   "cell_type": "code",
   "execution_count": 11,
   "id": "2e7fb0b1-a130-4c82-9a41-40552271a922",
   "metadata": {},
   "outputs": [],
   "source": [
    "df_train['Label'] = df_train['Label'].str.lower()\n",
    "df_test['Label'] = df_test['Label'].str.lower()"
   ]
  },
  {
   "cell_type": "code",
   "execution_count": 12,
   "id": "aec902a7-7d92-4393-9702-c49facfc9857",
   "metadata": {},
   "outputs": [],
   "source": [
    "unique_labels = list(df_train.Label.astype('category').unique())\n",
    "unique_codes = list(df_train.Label.astype('category').cat.codes.unique())\n",
    "mapping = {unique_codes[i] : unique_labels[i] for i in range(len(unique_labels))}"
   ]
  },
  {
   "cell_type": "code",
   "execution_count": 13,
   "id": "650dd29a-e512-4190-a564-d974ff38bde7",
   "metadata": {},
   "outputs": [
    {
     "data": {
      "text/plain": [
       "{11: 'normal',\n",
       " 0: 'c_ci_na_1',\n",
       " 1: 'c_ci_na_1_dos',\n",
       " 2: 'c_rd_na_1',\n",
       " 3: 'c_rd_na_1_dos',\n",
       " 4: 'c_rp_na_1',\n",
       " 5: 'c_rp_na_1_dos',\n",
       " 6: 'c_sc_na_1',\n",
       " 7: 'c_sc_na_1_dos',\n",
       " 8: 'c_se_na_1',\n",
       " 9: 'c_se_na_1_dos',\n",
       " 10: 'm_sp_na_1_dos'}"
      ]
     },
     "execution_count": 13,
     "metadata": {},
     "output_type": "execute_result"
    }
   ],
   "source": [
    "mapping"
   ]
  },
  {
   "cell_type": "code",
   "execution_count": 14,
   "id": "2a3644b8-7629-498e-945f-2c659f2168a2",
   "metadata": {},
   "outputs": [],
   "source": [
    "df_train['Label'] = df_train['Label'].replace(unique_labels, unique_codes)\n",
    "df_test['Label'] = df_test['Label'].replace(unique_labels, unique_codes)"
   ]
  },
  {
   "cell_type": "markdown",
   "id": "daeb6b18-0032-4712-8075-23f12b2da36d",
   "metadata": {},
   "source": [
    "Now, we remove the features which do not assist with training a ML model."
   ]
  },
  {
   "cell_type": "code",
   "execution_count": 15,
   "id": "bc817af7-cc4b-463a-96cc-36fa834e360b",
   "metadata": {},
   "outputs": [],
   "source": [
    "if tp == 'cic':\n",
    "    train = df_train.drop(columns=['Flow ID', 'Src IP', 'Src Port', 'Dst IP', 'Dst Port', 'Protocol', 'Timestamp'])\n",
    "    test = df_test.drop(columns=['Flow ID', 'Src IP', 'Src Port', 'Dst IP', 'Dst Port', 'Protocol', 'Timestamp'])\n",
    "else:\n",
    "    train = df_train\n",
    "    test = df_test"
   ]
  },
  {
   "cell_type": "markdown",
   "id": "29ad841f-cab5-433a-8fe5-2aa75e8c4143",
   "metadata": {},
   "source": [
    "Each worker will be assigned a subset of the dataset with $\\lfloor {M \\over N} \\rfloor$ data points."
   ]
  },
  {
   "cell_type": "code",
   "execution_count": 16,
   "id": "ab107df3-39db-426e-95c6-addb05ecfac0",
   "metadata": {},
   "outputs": [],
   "source": [
    "n_samples = int(df_train.shape[0] / n_workers)\n",
    "\n",
    "assert n_samples > 0, \"Each worker must be assigned at least one data point\""
   ]
  },
  {
   "cell_type": "markdown",
   "id": "ae745d79-0d91-40b3-9162-78ab587ad9f0",
   "metadata": {},
   "source": [
    "As a preprocessing step, for every client individually, we randomly choose N samples from the client's subset, flatten and shuffle it."
   ]
  },
  {
   "cell_type": "code",
   "execution_count": 17,
   "id": "c9ac9c8d-86b5-4bd6-9836-a604dfd25232",
   "metadata": {},
   "outputs": [],
   "source": [
    "n_epochs = 10\n",
    "shuffle_buffer_size = df_train.shape[0]\n",
    "batch_size = 250\n",
    "prefetch_buffer_size = 50\n",
    "input_shape = train.shape[1] - 1\n",
    "output_shape = len(unique_codes)"
   ]
  },
  {
   "cell_type": "code",
   "execution_count": 18,
   "id": "2e0a711e-4c21-43a2-a4ce-fc029584551d",
   "metadata": {},
   "outputs": [],
   "source": [
    "def preprocess(dataframe):\n",
    "    \n",
    "    \"\"\"Flatten a batch `pixels` and return the features as an `OrderedDict`.\"\"\"\n",
    "    def map_fn(dataset):\n",
    "        return collections.OrderedDict(\n",
    "            x=tf.cast(dataset[:,:-1], tf.float64),\n",
    "            y=tf.cast(tf.reshape(dataset[:,-1], shape=(-1, 1)), tf.int64)\n",
    "        )\n",
    "\n",
    "    return tf.data.Dataset.from_tensor_slices(dataframe).repeat(n_epochs).shuffle(\n",
    "        shuffle_buffer_size).batch(batch_size).map(map_fn).prefetch(prefetch_buffer_size)\n",
    "\n",
    "\n",
    "client_data = [preprocess(train.sample(n=n_samples)) for _ in range(n_workers)]"
   ]
  },
  {
   "cell_type": "code",
   "execution_count": 19,
   "id": "8123866c-6f28-4c55-a9fc-720e1af826f7",
   "metadata": {},
   "outputs": [
    {
     "data": {
      "text/plain": [
       "[<PrefetchDataset element_spec=OrderedDict([('x', TensorSpec(shape=(None, 76), dtype=tf.float64, name=None)), ('y', TensorSpec(shape=(None, 1), dtype=tf.int64, name=None))])>,\n",
       " <PrefetchDataset element_spec=OrderedDict([('x', TensorSpec(shape=(None, 76), dtype=tf.float64, name=None)), ('y', TensorSpec(shape=(None, 1), dtype=tf.int64, name=None))])>]"
      ]
     },
     "execution_count": 19,
     "metadata": {},
     "output_type": "execute_result"
    }
   ],
   "source": [
    "client_data"
   ]
  },
  {
   "cell_type": "code",
   "execution_count": 20,
   "id": "3137c265-a43d-4093-b8a3-a036ebdd69b9",
   "metadata": {},
   "outputs": [
    {
     "name": "stdout",
     "output_type": "stream",
     "text": [
      "72\n",
      "72\n"
     ]
    }
   ],
   "source": [
    "print(len(client_data[0]))\n",
    "print(len(client_data[1]))"
   ]
  },
  {
   "cell_type": "markdown",
   "id": "1ff6afa0-4c3b-4428-b4d3-b660be68ab85",
   "metadata": {},
   "source": [
    "Let's perform some statistical analysis on the difference in the number of samples for each digit in each client dataset."
   ]
  },
  {
   "cell_type": "code",
   "execution_count": 21,
   "id": "0d2ad4e9-4d1a-4b53-a74f-8dbe0c3e043b",
   "metadata": {},
   "outputs": [
    {
     "data": {
      "image/png": "[encoded data removed]",
      "text/plain": [
       "<Figure size 2000x700 with 2 Axes>"
      ]
     },
     "metadata": {},
     "output_type": "display_data"
    }
   ],
   "source": [
    "# Number of examples per layer for a sample of clients\n",
    "fig = plt.figure(figsize=(20, 7))\n",
    "fig.suptitle('Label Counts for a Sample of Worker Data')\n",
    "fig.tight_layout()\n",
    "\n",
    "for i in range(n_workers):\n",
    "    m = 0\n",
    "    plot_data = collections.defaultdict(list)\n",
    "    for label in list(client_data[i])[0]['y'].numpy()[:,0]:\n",
    "        # Append counts individually per label to make plots\n",
    "        # more colorful instead of one color per plot.\n",
    "        plot_data[label].append(label)\n",
    "        m = max(m, len(plot_data[label]))\n",
    "    \n",
    "    n_cols = n_workers if n_workers < 5 else 5\n",
    "    xlim = [0, m+(5-m%5)]\n",
    "    ylim = [min(unique_codes)-1, max(unique_codes)+1]\n",
    "    yticks = list(range(min(unique_codes), max(unique_codes)+1))\n",
    "    yticks_labels = [mapping[k] for k in range(0, max(unique_codes)+1)]\n",
    "    \n",
    "    plt.subplot(int(n_workers / 5)+1, n_cols, i+1)\n",
    "    plt.subplots_adjust(wspace=0.3)\n",
    "    plt.title('Worker {}'.format(i+1))\n",
    "    plt.xlabel('#points')\n",
    "    plt.xlim(xlim)\n",
    "    plt.ylabel('Label')\n",
    "    plt.ylim(ylim)\n",
    "    plt.yticks(yticks, labels=yticks_labels)\n",
    "    \n",
    "    # plot values on top of bars\n",
    "    for key in plot_data:\n",
    "        if len(plot_data[key]) > 0:\n",
    "            plt.text(len(plot_data[key])+0.6, int(key)-0.1, str(len(plot_data[key])), ha='center')\n",
    "    \n",
    "    for j in range(min(unique_codes),max(unique_codes)+1):\n",
    "        plt.hist(\n",
    "            plot_data[j],\n",
    "            density=False,\n",
    "            bins=[k-0.5 for k in range(min(unique_codes),max(unique_codes)+2)],\n",
    "            orientation='horizontal'\n",
    "        )"
   ]
  },
  {
   "cell_type": "markdown",
   "id": "de668126-b790-4261-910d-95aeb9de1ccb",
   "metadata": {
    "id": "dFkcJZAojZDm",
    "tags": []
   },
   "source": [
    "## Define the Model to Train"
   ]
  },
  {
   "cell_type": "markdown",
   "id": "7599be9f-82f4-406d-a7b1-8ebde1725e04",
   "metadata": {},
   "source": [
    "The model we use is a simple MLP with one hidden layer."
   ]
  },
  {
   "cell_type": "code",
   "execution_count": 22,
   "id": "f5870af1-8ba9-4c23-a4fe-ce5085913ac3",
   "metadata": {},
   "outputs": [],
   "source": [
    "def model_fn():\n",
    "    model = tf.keras.models.Sequential([\n",
    "        tf.keras.layers.InputLayer(input_shape=(input_shape,)),\n",
    "        tf.keras.layers.Dense(output_shape, kernel_initializer='zeros', activation='relu'),\n",
    "        tf.keras.layers.Softmax(),\n",
    "    ])\n",
    "    return tff.learning.from_keras_model(model,\n",
    "        # Note: input spec is the _batched_ shape, and includes the \n",
    "        # label tensor which will be passed to the loss function. This model is\n",
    "        # therefore configured to accept data _after_ it has been preprocessed.\n",
    "        input_spec=collections.OrderedDict(\n",
    "            x=tf.TensorSpec(shape=[None, input_shape], dtype=tf.float64),\n",
    "            y=tf.TensorSpec(shape=[None, 1], dtype=tf.int64)),\n",
    "        loss=tf.keras.losses.SparseCategoricalCrossentropy(from_logits=True),\n",
    "        metrics=[tf.keras.metrics.SparseCategoricalAccuracy()])\n",
    "\n",
    "trainer = tff.learning.algorithms.build_weighted_fed_avg(\n",
    "    model_fn,\n",
    "    client_optimizer_fn=lambda: tf.keras.optimizers.SGD(learning_rate=0.01),\n",
    "    server_optimizer_fn=lambda: tf.keras.optimizers.SGD(learning_rate=1.0)\n",
    ")"
   ]
  },
  {
   "cell_type": "code",
   "execution_count": 23,
   "id": "1bfdcd24-194f-47a4-9239-7ab4c1195447",
   "metadata": {},
   "outputs": [
    {
     "name": "stdout",
     "output_type": "stream",
     "text": [
      "( -> <\n",
      "  global_model_weights=<\n",
      "    trainable=<\n",
      "      float32[76,12],\n",
      "      float32[12]\n",
      "    >,\n",
      "    non_trainable=<>\n",
      "  >,\n",
      "  distributor=<>,\n",
      "  client_work=<>,\n",
      "  aggregator=<\n",
      "    value_sum_process=<>,\n",
      "    weight_sum_process=<>\n",
      "  >,\n",
      "  finalizer=<\n",
      "    int64\n",
      "  >\n",
      ">@SERVER)\n"
     ]
    }
   ],
   "source": [
    "print(trainer.initialize.type_signature.formatted_representation())"
   ]
  },
  {
   "cell_type": "code",
   "execution_count": 24,
   "id": "b86dc44e-4f11-4fcd-a5ad-d141741b3dc6",
   "metadata": {},
   "outputs": [],
   "source": [
    "def evaluate(num_rounds=10):    \n",
    "    state = trainer.initialize()\n",
    "    for round in range(num_rounds):\n",
    "        t1 = time.time()\n",
    "        result = trainer.next(state, client_data)\n",
    "        state = result.state\n",
    "        train_metrics = result.metrics['client_work']['train']\n",
    "        t2 = time.time()\n",
    "        print('Round {}: loss {}, round time {}'.format(\n",
    "            round+1, train_metrics['loss'], t2 - t1))"
   ]
  },
  {
   "cell_type": "markdown",
   "id": "056a49fe-169f-4284-82b9-a2ee8514c524",
   "metadata": {
    "id": "x5OhgAp7jrNI"
   },
   "source": [
    "## Set Up the Remote Executors\n",
    "\n",
    "By default, TFF executes all computations locally. In this step we tell TFF to connect to another (set of) client(s).\n",
    "\n",
    "Verify the integrity of the IP address(es) and port(s) before initiating connection and training."
   ]
  },
  {
   "cell_type": "code",
   "execution_count": 25,
   "id": "9b8e5dcb-c645-49b1-9d50-6e2dd567112c",
   "metadata": {},
   "outputs": [],
   "source": [
    "import grpc\n",
    "\n",
    "ip_address = ['0.0.0.0'] * n_workers  #@param {type:\"string\"}\n",
    "ports = [80+i for i in range(n_workers)]  #@param {type:list[\"integer\"]}\n",
    "\n",
    "channels = [grpc.insecure_channel(f'{ip_address[i]}:{ports[i]}') for i in range(len(ports))]\n",
    "\n",
    "tff.backends.native.set_remote_python_execution_context(channels)"
   ]
  },
  {
   "cell_type": "markdown",
   "id": "06b4a3cb-83ad-4ac2-b57c-553e5d42dede",
   "metadata": {
    "id": "8Lq8r5uaT2rB",
    "tags": []
   },
   "source": [
    "### Launch N TFF workers as Docker Containers locally\n",
    "\n",
    "```\n",
    "docker run --rm -p 80:8000 -v /home/:/home/ gcr.io/tensorflow-federated/remote-executor-service:latest\n",
    "docker run --rm -p 81:8000 -v /home/:/home/ gcr.io/tensorflow-federated/remote-executor-service:latest\n",
    "docker run --rm -p 82:8000 -v /home/:/home/ gcr.io/tensorflow-federated/remote-executor-service:latest\n",
    "...\n",
    "```\n",
    "\n",
    "\n",
    "Or use the **docker-compose.yaml** file to launch $2 \\leq N \\leq 5$ TFF workers as Docker Containers locally\n",
    "```\n",
    "docker compose up --scale tff=2\n",
    "```"
   ]
  },
  {
   "cell_type": "markdown",
   "id": "cc59808d-0a69-487f-b74b-1afe89bd7333",
   "metadata": {
    "id": "bEgpmgSRktJY"
   },
   "source": [
    "## Run Training"
   ]
  },
  {
   "cell_type": "code",
   "execution_count": 26,
   "id": "84f42e68-e136-40ce-a079-28f1aace44f2",
   "metadata": {},
   "outputs": [
    {
     "name": "stdout",
     "output_type": "stream",
     "text": [
      "Round 1: loss 2.4849064350128174, round time 0.8322305679321289\n",
      "Round 2: loss 2.4849064350128174, round time 0.4306950569152832\n",
      "Round 3: loss 2.4849064350128174, round time 0.4070909023284912\n",
      "Round 4: loss 2.4849064350128174, round time 0.3699955940246582\n",
      "Round 5: loss 2.4849064350128174, round time 0.44867420196533203\n",
      "Round 6: loss 2.4849064350128174, round time 0.3896756172180176\n",
      "Round 7: loss 2.4849064350128174, round time 0.46233129501342773\n",
      "Round 8: loss 2.4849064350128174, round time 0.41034626960754395\n",
      "Round 9: loss 2.4849064350128174, round time 0.37673377990722656\n",
      "Round 10: loss 2.4849064350128174, round time 0.3672010898590088\n"
     ]
    }
   ],
   "source": [
    "evaluate(n_epochs)"
   ]
  },
  {
   "cell_type": "markdown",
   "id": "6f7731c0-046e-41e0-a4cb-d0622ef5b4fd",
   "metadata": {},
   "source": [
    "Obviously the training evaluation results are not that great, but further optimization and hyperparameters fine-tuning can be done."
   ]
  }
 ],
 "metadata": {
  "kernelspec": {
   "display_name": "Python 3 (ipykernel)",
   "language": "python",
   "name": "python3"
  },
  "language_info": {
   "codemirror_mode": {
    "name": "ipython",
    "version": 3
   },
   "file_extension": ".py",
   "mimetype": "text/x-python",
   "name": "python",
   "nbconvert_exporter": "python",
   "pygments_lexer": "ipython3",
   "version": "3.9.13"
  }
 },
 "nbformat": 4,
 "nbformat_minor": 5
}
